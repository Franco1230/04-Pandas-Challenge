{
 "cells": [
  {
   "cell_type": "markdown",
   "metadata": {},
   "source": [
    "### Note\n",
    "* Instructions have been included for each segment. You do not have to follow them exactly, but they are included to help you think through the steps."
   ]
  },
  {
   "cell_type": "code",
   "execution_count": null,
   "metadata": {},
   "outputs": [],
   "source": [
    "# Dependencies and Setup\n",
    "import pandas as pd\n",
    "\n",
    "# Raw data file\n",
    "file_to_load = \"Resources/purchase_data.csv\"\n",
    "\n",
    "# Read purchasing file and store into pandas data frame\n",
    "purchase_data = pd.read_csv(file_to_load)\n",
    "\n",
    "# Display data frame\n",
    "purchase_data.head()"
   ]
  },
  {
   "cell_type": "code",
   "execution_count": null,
   "metadata": {},
   "outputs": [],
   "source": [
    "# Set data type to avoid calculation error\n",
    "purchase_data[\"Purchase ID\"].astype(\"int\")\n",
    "purchase_data[\"SN\"].astype(\"object\")\n",
    "purchase_data[\"Age\"].astype(\"int\")\n",
    "purchase_data[\"Gender\"].astype(\"object\")\n",
    "purchase_data[\"Item ID\"].astype(\"int\")\n",
    "purchase_data[\"Item Name\"].astype(\"object\")\n",
    "purchase_data[\"Price\"].astype(\"float\")"
   ]
  },
  {
   "cell_type": "markdown",
   "metadata": {},
   "source": [
    "## Player Count"
   ]
  },
  {
   "cell_type": "markdown",
   "metadata": {},
   "source": [
    "* Display the total number of players\n"
   ]
  },
  {
   "cell_type": "code",
   "execution_count": null,
   "metadata": {},
   "outputs": [],
   "source": [
    "# Use length to count list of \"SN\" for each unique players\n",
    "players = len(purchase_data[\"SN\"].unique())\n",
    "\n",
    "# Create data frame with total player count\n",
    "players_count = pd.DataFrame({\"Total Players\": [players]})\n",
    "\n",
    "# Display data frame\n",
    "players_count"
   ]
  },
  {
   "cell_type": "markdown",
   "metadata": {},
   "source": [
    "## Purchasing Analysis (Total)"
   ]
  },
  {
   "cell_type": "markdown",
   "metadata": {},
   "source": [
    "* Run basic calculations to obtain number of unique items, average price, etc.\n",
    "\n",
    "\n",
    "* Create a summary data frame to hold the results\n",
    "\n",
    "\n",
    "* Optional: give the displayed data cleaner formatting\n",
    "\n",
    "\n",
    "* Display the summary data frame\n"
   ]
  },
  {
   "cell_type": "code",
   "execution_count": null,
   "metadata": {
    "scrolled": true
   },
   "outputs": [],
   "source": [
    "# Calculate for unique items\n",
    "unique_items = len((purchase_data[\"Item ID\"]).unique())\n",
    "\n",
    "# Calculations average price\n",
    "average_price = (purchase_data[\"Price\"]).mean()\n",
    "\n",
    "# Calculations purchases\n",
    "number_of_purchases = (purchase_data[\"Purchase ID\"]).count()\n",
    "\n",
    "# Calculations total revenue\n",
    "total_revenue = (purchase_data[\"Price\"]).sum()\n",
    "\n",
    "# Create data frame for the analysis\n",
    "total_purchase_analysis = pd.DataFrame({\"Number of Unique Items\": [unique_items],\n",
    "                                        \"Average Price\": [average_price],\n",
    "                                        \"Number of Purchases\": [number_of_purchases],\n",
    "                                        \"Total Revenue\": [total_revenue]})\n",
    "\n",
    "# Format data frame, adding \"$\", comma and two decimal places\n",
    "total_purchase_analysis = total_purchase_analysis.style.format({\"Average Price\": \"${:,.2f}\",\n",
    "                                                                \"Total Revenue\": \"${:,.2f}\"})\n",
    "\n",
    "# Display data frame\n",
    "total_purchase_analysis"
   ]
  },
  {
   "cell_type": "markdown",
   "metadata": {},
   "source": [
    "## Gender Demographics"
   ]
  },
  {
   "cell_type": "markdown",
   "metadata": {},
   "source": [
    "* Percentage and Count of Male Players\n",
    "\n",
    "\n",
    "* Percentage and Count of Female Players\n",
    "\n",
    "\n",
    "* Percentage and Count of Other / Non-Disclosed\n",
    "\n",
    "\n"
   ]
  },
  {
   "cell_type": "code",
   "execution_count": null,
   "metadata": {},
   "outputs": [],
   "source": [
    "# Use Groupby on Gender to get genders\n",
    "genders = purchase_data.groupby(\"Gender\")\n",
    "\n",
    "# Use SN to count the total player of each gender\n",
    "genders_count = genders.nunique()[\"SN\"]\n",
    "\n",
    "# Total gender count divivde by total players to get percentage\n",
    "players_percentage = genders_count / players * 100\n",
    "\n",
    "# Create data frame for the analysis\n",
    "gender_demo = pd.DataFrame({\"Total Count\": genders_count,\n",
    "                            \"Percentage of Players\": players_percentage})\n",
    "\n",
    "# Format the data frame with no index\n",
    "gender_demo.index.name = None\n",
    "\n",
    "# Sort data frame by \"Total Count\" in descending order\n",
    "gender_demo = gender_demo.sort_values([\"Total Count\"], ascending = False)\n",
    "\n",
    "# Format data frame, adding \"%\" and two decimal places for the percentage\n",
    "gender_demo = gender_demo.style.format({\"Percentage of Players\": \"{:,.2f}%\"})\n",
    "\n",
    "# Display data frame\n",
    "gender_demo"
   ]
  },
  {
   "cell_type": "markdown",
   "metadata": {},
   "source": [
    "\n",
    "## Purchasing Analysis (Gender)"
   ]
  },
  {
   "cell_type": "markdown",
   "metadata": {},
   "source": [
    "* Run basic calculations to obtain purchase count, avg. purchase price, avg. purchase total per person etc. by gender\n",
    "\n",
    "\n",
    "\n",
    "\n",
    "* Create a summary data frame to hold the results\n",
    "\n",
    "\n",
    "* Optional: give the displayed data cleaner formatting\n",
    "\n",
    "\n",
    "* Display the summary data frame"
   ]
  },
  {
   "cell_type": "code",
   "execution_count": null,
   "metadata": {
    "scrolled": true
   },
   "outputs": [],
   "source": [
    "# Count the total purchases by gender\n",
    "number_of_purchases = genders[\"Purchase ID\"].count()\n",
    "\n",
    "# Calculate the average purchase prices by gender\n",
    "avg_purchase_price = genders[\"Price\"].mean()\n",
    "\n",
    "# Calculate the average purchase total by gender\n",
    "avg_purchase_total = genders[\"Price\"].sum()\n",
    "\n",
    "# Average purchase total by gender, divivded by, purchase count by unique shoppers\n",
    "avg_purchase_per_person = avg_purchase_total / genders_count\n",
    "\n",
    "# Create data frame for the analysis\n",
    "gender_purchasing_analysis = pd.DataFrame({\"Purchase Count\": number_of_purchases,\n",
    "                                           \"Average Purchase Price\": avg_purchase_price,\n",
    "                                           \"Average Purchase Value\":avg_purchase_total,\n",
    "                                           \"Avg Purchase Total per Person\": avg_purchase_per_person})\n",
    "\n",
    "# Set index as \"Gender\"\n",
    "gender_purchasing_analysis.index.name = \"Gender\"\n",
    "\n",
    "# Sort data frame by \"Purchase Count\" in descending order\n",
    "gender_purchasing_analysis = gender_purchasing_analysis.sort_values([\"Purchase Count\"], ascending = False)\n",
    "\n",
    "# Format data frame, adding \"$\", comma and set two decimal places\n",
    "gender_purchasing_analysis = gender_purchasing_analysis.style.format({\"Average Purchase Value\":\"${:,.2f}\",\n",
    "                                                                      \"Average Purchase Price\":\"${:,.2f}\",\n",
    "                                                                      \"Avg Purchase Total per Person\":\"${:,.2f}\"})\n",
    "\n",
    "# Display data frame\n",
    "gender_purchasing_analysis"
   ]
  },
  {
   "cell_type": "markdown",
   "metadata": {},
   "source": [
    "## Age Demographics"
   ]
  },
  {
   "cell_type": "markdown",
   "metadata": {},
   "source": [
    "* Establish bins for ages\n",
    "\n",
    "\n",
    "* Categorize the existing players using the age bins. Hint: use pd.cut()\n",
    "\n",
    "\n",
    "* Calculate the numbers and percentages by age group\n",
    "\n",
    "\n",
    "* Create a summary data frame to hold the results\n",
    "\n",
    "\n",
    "* Optional: round the percentage column to two decimal points\n",
    "\n",
    "\n",
    "* Display Age Demographics Table\n"
   ]
  },
  {
   "cell_type": "code",
   "execution_count": null,
   "metadata": {},
   "outputs": [],
   "source": [
    "# Creating bins for ages\n",
    "age_bins = [0, 9.99, 14.99, 19.99, 24.99, 29.99, 34.99, 39.99, 99999]\n",
    "group_names = [\"<10\", \"10-14\", \"15-19\", \"20-24\", \"25-29\", \"30-34\", \"35-39\", \"40+\"]\n",
    "\n",
    "# Divide and sort age into bins\n",
    "purchase_data[\"Age Group\"] = pd.cut(purchase_data[\"Age\"], age_bins, labels = group_names)\n",
    "\n",
    "# Create new data frame with \"Age Group\" and group it\n",
    "grouped_age = purchase_data.groupby(\"Age Group\")\n",
    "\n",
    "# Count total players by age category\n",
    "total_count_by_age = grouped_age[\"SN\"].nunique()\n",
    "\n",
    "# Calculate percentages by age category \n",
    "percentage_by_age = (total_count_by_age / players) * 100\n",
    "\n",
    "# Create data frame for the analysis\n",
    "age_demo = pd.DataFrame({\"Total Count\": total_count_by_age,\n",
    "                         \"Percentage of Players\": percentage_by_age})\n",
    "\n",
    "# Format the data frame with no index\n",
    "age_demo.index.name = None\n",
    "\n",
    "# Format data frame, adding \"%\" and two decimal places\n",
    "age_demo = age_demo.style.format({\"Percentage of Players\": \"{:,.2f}%\"})\n",
    "\n",
    "#Display data frame\n",
    "age_demo"
   ]
  },
  {
   "cell_type": "markdown",
   "metadata": {},
   "source": [
    "## Purchasing Analysis (Age)"
   ]
  },
  {
   "cell_type": "markdown",
   "metadata": {},
   "source": [
    "* Bin the purchase_data data frame by age\n",
    "\n",
    "\n",
    "* Run basic calculations to obtain purchase count, avg. purchase price, avg. purchase total per person etc. in the table below\n",
    "\n",
    "\n",
    "* Create a summary data frame to hold the results\n",
    "\n",
    "\n",
    "* Optional: give the displayed data cleaner formatting\n",
    "\n",
    "\n",
    "* Display the summary data frame"
   ]
  },
  {
   "cell_type": "code",
   "execution_count": null,
   "metadata": {},
   "outputs": [],
   "source": [
    "# Count purchases by age group\n",
    "purchase_count_by_age = grouped_age[\"Purchase ID\"].count()\n",
    "\n",
    "# Calculate average purchase price by age group \n",
    "avg_purchase_price_by_age = grouped_age[\"Price\"].mean()\n",
    "\n",
    "# Calculate total purchase value by age group \n",
    "total_purchase = grouped_age[\"Price\"].sum()\n",
    "\n",
    "# Calculate average purchase per person in the age group \n",
    "avg_purchase_per_person_by_age = total_purchase / total_count_by_age\n",
    "\n",
    "# Create data frame for the analysis\n",
    "age_purchase_analysis = pd.DataFrame({\"Purchase Count\": purchase_count_by_age,\n",
    "                                      \"Average Purchase Price\": avg_purchase_price_by_age,\n",
    "                                      \"Total Purchase Value\": total_purchase,\n",
    "                                      \"Average Purchase Total per Person\": avg_purchase_per_person_by_age})\n",
    "\n",
    "# Format the data frame with no index\n",
    "age_purchase_analysis.index.name = None\n",
    "\n",
    "# Format data frame, adding \"$\", comma and set two decimal places\n",
    "age_purchase_analysis = age_purchase_analysis.style.format({\"Average Purchase Price\": \"${:,.2f}\",\n",
    "                                                            \"Total Purchase Value\": \"${:,.2f}\",\n",
    "                                                            \"Average Purchase Total per Person\": \"${:,.2f}\"})\n",
    "\n",
    "# Diaplay data frame\n",
    "age_purchase_analysis"
   ]
  },
  {
   "cell_type": "markdown",
   "metadata": {},
   "source": [
    "## Top Spenders"
   ]
  },
  {
   "cell_type": "markdown",
   "metadata": {},
   "source": [
    "* Run basic calculations to obtain the results in the table below\n",
    "\n",
    "\n",
    "* Create a summary data frame to hold the results\n",
    "\n",
    "\n",
    "* Sort the total purchase value column in descending order\n",
    "\n",
    "\n",
    "* Optional: give the displayed data cleaner formatting\n",
    "\n",
    "\n",
    "* Display a preview of the summary data frame\n",
    "\n"
   ]
  },
  {
   "cell_type": "code",
   "execution_count": null,
   "metadata": {},
   "outputs": [],
   "source": [
    "# Use original data set to group data by \"SN\"\n",
    "spenders = purchase_data.groupby(\"SN\")\n",
    "\n",
    "# Count total purchases\n",
    "count_by_spender = spenders[\"Purchase ID\"].count()\n",
    "\n",
    "# Calculate the average purchase by \"SN\" \n",
    "avg_purchase_price_by_spender = spenders[\"Price\"].mean()\n",
    "\n",
    "# Calculate purchase total \n",
    "purchase_total_by_spender = spenders[\"Price\"].sum()\n",
    "\n",
    "# Create data frame for the analysis\n",
    "top_spenders = pd.DataFrame({\"Purchase Count\": count_by_spender,\n",
    "                             \"Average Purchase Price\": avg_purchase_price_by_spender,\n",
    "                             \"Total Purchase Value\": purchase_total_by_spender})\n",
    "\n",
    "# Sort data frame by \"Total Purchase Value\" in descending order to find top 5 spender names\n",
    "top_spenders = top_spenders.sort_values([\"Total Purchase Value\"], ascending = False)\n",
    "\n",
    "# Format data frame, adding \"$\", comma and set two decimal places\n",
    "top_spenders[\"Average Purchase Price\"] = top_spenders[\"Average Purchase Price\"].astype(float).map(\"${:.2f}\".format)\n",
    "top_spenders[\"Total Purchase Value\"] = top_spenders[\"Total Purchase Value\"].astype(float).map(\"${:.2f}\".format)\n",
    "\n",
    "# Display data frame\n",
    "top_spenders.head()"
   ]
  },
  {
   "cell_type": "markdown",
   "metadata": {},
   "source": [
    "## Most Popular Items"
   ]
  },
  {
   "cell_type": "markdown",
   "metadata": {},
   "source": [
    "* Retrieve the Item ID, Item Name, and Item Price columns\n",
    "\n",
    "\n",
    "* Group by Item ID and Item Name. Perform calculations to obtain purchase count, item price, and total purchase value\n",
    "\n",
    "\n",
    "* Create a summary data frame to hold the results\n",
    "\n",
    "\n",
    "* Sort the purchase count column in descending order\n",
    "\n",
    "\n",
    "* Optional: give the displayed data cleaner formatting\n",
    "\n",
    "\n",
    "* Display a preview of the summary data frame\n",
    "\n"
   ]
  },
  {
   "cell_type": "code",
   "execution_count": null,
   "metadata": {},
   "outputs": [],
   "source": [
    "# Create new data set with items related data from original data set \n",
    "items = purchase_data[[\"Item ID\", \"Item Name\", \"Price\"]]\n",
    "\n",
    "# Group the item data by item id and item name\n",
    "item_stats = items.groupby([\"Item ID\",\"Item Name\"])\n",
    "\n",
    "# Count how many times each item has been purchased\n",
    "purchase_count_item = item_stats[\"Price\"].count()\n",
    "\n",
    "# Calcualte the total purchase value\n",
    "purchase_value = (item_stats[\"Price\"].sum()) \n",
    "\n",
    "# Find individual item price\n",
    "item_price = purchase_value / purchase_count_item\n",
    "\n",
    "# Create data frame\n",
    "most_popular_items = pd.DataFrame({\"Purchase Count\": purchase_count_item, \n",
    "                                   \"Item Price\": item_price,\n",
    "                                   \"Total Purchase Value\": purchase_value})\n",
    "\n",
    "# Sort data frame by \"Purchase Count\" in descending order to find top 5 spender names\n",
    "formatted_most_popular_items = most_popular_items.sort_values([\"Purchase Count\"], ascending = False)\n",
    "\n",
    "# Format data frame, adding \"$\", comma and set two decimal places\n",
    "formatted_most_popular_items[\"Item Price\"] = formatted_most_popular_items[\"Item Price\"].astype(float).map(\"${:.2f}\".format)\n",
    "formatted_most_popular_items[\"Total Purchase Value\"] = formatted_most_popular_items[\"Total Purchase Value\"].astype(float).map(\"${:.2f}\".format)\n",
    "\n",
    "# Display data frame\n",
    "formatted_most_popular_items.head()"
   ]
  },
  {
   "cell_type": "markdown",
   "metadata": {},
   "source": [
    "## Most Profitable Items"
   ]
  },
  {
   "cell_type": "markdown",
   "metadata": {},
   "source": [
    "* Sort the above table by total purchase value in descending order\n",
    "\n",
    "\n",
    "* Optional: give the displayed data cleaner formatting\n",
    "\n",
    "\n",
    "* Display a preview of the data frame\n",
    "\n"
   ]
  },
  {
   "cell_type": "code",
   "execution_count": null,
   "metadata": {
    "scrolled": true
   },
   "outputs": [],
   "source": [
    "# Change the sorting from the previous data frame to find highest total purchase value\n",
    "most_profitable_items = most_popular_items.sort_values([\"Total Purchase Value\"], ascending = False)\n",
    "\n",
    "# Sort data frame by \"Total Purchase Value\" in descending order to find top 5 spender names\n",
    "most_profitable_items[\"Item Price\"] = most_profitable_items[\"Item Price\"].astype(float).map(\"${:.2f}\".format)\n",
    "most_profitable_items[\"Total Purchase Value\"] = most_profitable_items[\"Total Purchase Value\"].astype(float).map(\"${:.2f}\".format)\n",
    "\n",
    "# Display data frame\n",
    "most_profitable_items.head()"
   ]
  }
 ],
 "metadata": {
  "anaconda-cloud": {},
  "kernel_info": {
   "name": "python3"
  },
  "kernelspec": {
   "display_name": "Python 3",
   "language": "python",
   "name": "python3"
  },
  "language_info": {
   "codemirror_mode": {
    "name": "ipython",
    "version": 3
   },
   "file_extension": ".py",
   "mimetype": "text/x-python",
   "name": "python",
   "nbconvert_exporter": "python",
   "pygments_lexer": "ipython3",
   "version": "3.8.8"
  },
  "latex_envs": {
   "LaTeX_envs_menu_present": true,
   "autoclose": false,
   "autocomplete": true,
   "bibliofile": "biblio.bib",
   "cite_by": "apalike",
   "current_citInitial": 1,
   "eqLabelWithNumbers": true,
   "eqNumInitial": 1,
   "hotkeys": {
    "equation": "Ctrl-E",
    "itemize": "Ctrl-I"
   },
   "labels_anchors": false,
   "latex_user_defs": false,
   "report_style_numbering": false,
   "user_envs_cfg": false
  },
  "nteract": {
   "version": "0.2.0"
  }
 },
 "nbformat": 4,
 "nbformat_minor": 2
}
