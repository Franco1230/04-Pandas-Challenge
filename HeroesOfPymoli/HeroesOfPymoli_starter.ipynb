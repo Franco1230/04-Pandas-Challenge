{
 "cells": [
  {
   "cell_type": "markdown",
   "source": [
    "### Note\n",
    "* Instructions have been included for each segment. You do not have to follow them exactly, but they are included to help you think through the steps."
   ],
   "metadata": {}
  },
  {
   "cell_type": "code",
   "execution_count": 1,
   "source": [
    "# Dependencies and Setup\r\n",
    "import pandas as pd\r\n",
    "\r\n",
    "# Define function to set data type\r\n",
    "def set_type(data_type, pddf):\r\n",
    "    for row in data_type:\r\n",
    "        pddf[row[0]].astype(row[1])        \r\n",
    "\r\n",
    "        \r\n",
    "# Define function for data formatting\r\n",
    "def formatting(data, pddf):\r\n",
    "    for k, v in data.items():\r\n",
    "        pddf[k] = pddf[k].astype(v[0]).map(v[1].format)\r\n",
    "        \r\n",
    "obj = \"object\"\r\n",
    "integer = \"int\"\r\n",
    "        \r\n",
    "dollar_value = [float, \"${:,.2f}\"]\r\n",
    "\r\n",
    "# Raw data file\r\n",
    "file_to_load = \"Resources/purchase_data.csv\"\r\n",
    "\r\n",
    "# Read purchasing file and store into pandas data frame\r\n",
    "purchase_data = pd.read_csv(file_to_load)\r\n",
    "\r\n",
    "# Display data frame\r\n",
    "purchase_data.head()"
   ],
   "outputs": [
    {
     "output_type": "execute_result",
     "data": {
      "text/html": [
       "<div>\n",
       "<style scoped>\n",
       "    .dataframe tbody tr th:only-of-type {\n",
       "        vertical-align: middle;\n",
       "    }\n",
       "\n",
       "    .dataframe tbody tr th {\n",
       "        vertical-align: top;\n",
       "    }\n",
       "\n",
       "    .dataframe thead th {\n",
       "        text-align: right;\n",
       "    }\n",
       "</style>\n",
       "<table border=\"1\" class=\"dataframe\">\n",
       "  <thead>\n",
       "    <tr style=\"text-align: right;\">\n",
       "      <th></th>\n",
       "      <th>Purchase ID</th>\n",
       "      <th>SN</th>\n",
       "      <th>Age</th>\n",
       "      <th>Gender</th>\n",
       "      <th>Item ID</th>\n",
       "      <th>Item Name</th>\n",
       "      <th>Price</th>\n",
       "    </tr>\n",
       "  </thead>\n",
       "  <tbody>\n",
       "    <tr>\n",
       "      <th>0</th>\n",
       "      <td>0</td>\n",
       "      <td>Lisim78</td>\n",
       "      <td>20</td>\n",
       "      <td>Male</td>\n",
       "      <td>108</td>\n",
       "      <td>Extraction, Quickblade Of Trembling Hands</td>\n",
       "      <td>3.53</td>\n",
       "    </tr>\n",
       "    <tr>\n",
       "      <th>1</th>\n",
       "      <td>1</td>\n",
       "      <td>Lisovynya38</td>\n",
       "      <td>40</td>\n",
       "      <td>Male</td>\n",
       "      <td>143</td>\n",
       "      <td>Frenzied Scimitar</td>\n",
       "      <td>1.56</td>\n",
       "    </tr>\n",
       "    <tr>\n",
       "      <th>2</th>\n",
       "      <td>2</td>\n",
       "      <td>Ithergue48</td>\n",
       "      <td>24</td>\n",
       "      <td>Male</td>\n",
       "      <td>92</td>\n",
       "      <td>Final Critic</td>\n",
       "      <td>4.88</td>\n",
       "    </tr>\n",
       "    <tr>\n",
       "      <th>3</th>\n",
       "      <td>3</td>\n",
       "      <td>Chamassasya86</td>\n",
       "      <td>24</td>\n",
       "      <td>Male</td>\n",
       "      <td>100</td>\n",
       "      <td>Blindscythe</td>\n",
       "      <td>3.27</td>\n",
       "    </tr>\n",
       "    <tr>\n",
       "      <th>4</th>\n",
       "      <td>4</td>\n",
       "      <td>Iskosia90</td>\n",
       "      <td>23</td>\n",
       "      <td>Male</td>\n",
       "      <td>131</td>\n",
       "      <td>Fury</td>\n",
       "      <td>1.44</td>\n",
       "    </tr>\n",
       "  </tbody>\n",
       "</table>\n",
       "</div>"
      ],
      "text/plain": [
       "   Purchase ID             SN  Age Gender  Item ID  \\\n",
       "0            0        Lisim78   20   Male      108   \n",
       "1            1    Lisovynya38   40   Male      143   \n",
       "2            2     Ithergue48   24   Male       92   \n",
       "3            3  Chamassasya86   24   Male      100   \n",
       "4            4      Iskosia90   23   Male      131   \n",
       "\n",
       "                                   Item Name  Price  \n",
       "0  Extraction, Quickblade Of Trembling Hands   3.53  \n",
       "1                          Frenzied Scimitar   1.56  \n",
       "2                               Final Critic   4.88  \n",
       "3                                Blindscythe   3.27  \n",
       "4                                       Fury   1.44  "
      ]
     },
     "metadata": {},
     "execution_count": 1
    }
   ],
   "metadata": {}
  },
  {
   "cell_type": "code",
   "execution_count": 2,
   "source": [
    "#\r\n",
    "data_list = [[\"Purchase ID\", integer],\r\n",
    "             [\"SN\", obj],\r\n",
    "             [\"Age\", integer],\r\n",
    "             [\"Gender\", obj],\r\n",
    "             [\"Item ID\", integer],\r\n",
    "             [\"Item Name\", obj],\r\n",
    "             [\"Price\", \"float\"]]"
   ],
   "outputs": [],
   "metadata": {}
  },
  {
   "cell_type": "code",
   "execution_count": 3,
   "source": [
    "set_type(data_list, purchase_data)"
   ],
   "outputs": [],
   "metadata": {}
  },
  {
   "cell_type": "markdown",
   "source": [
    "## Player Count"
   ],
   "metadata": {}
  },
  {
   "cell_type": "markdown",
   "source": [
    "* Display the total number of players\n"
   ],
   "metadata": {}
  },
  {
   "cell_type": "code",
   "execution_count": 4,
   "source": [
    "# Use length to count list of \"SN\" for each unique players\r\n",
    "players = len(purchase_data[\"SN\"].unique())\r\n",
    "\r\n",
    "# Create data frame with total player count\r\n",
    "players_count = pd.DataFrame({\"Total Players\": [players]})\r\n",
    "\r\n",
    "# Display data frame\r\n",
    "players_count"
   ],
   "outputs": [
    {
     "output_type": "execute_result",
     "data": {
      "text/html": [
       "<div>\n",
       "<style scoped>\n",
       "    .dataframe tbody tr th:only-of-type {\n",
       "        vertical-align: middle;\n",
       "    }\n",
       "\n",
       "    .dataframe tbody tr th {\n",
       "        vertical-align: top;\n",
       "    }\n",
       "\n",
       "    .dataframe thead th {\n",
       "        text-align: right;\n",
       "    }\n",
       "</style>\n",
       "<table border=\"1\" class=\"dataframe\">\n",
       "  <thead>\n",
       "    <tr style=\"text-align: right;\">\n",
       "      <th></th>\n",
       "      <th>Total Players</th>\n",
       "    </tr>\n",
       "  </thead>\n",
       "  <tbody>\n",
       "    <tr>\n",
       "      <th>0</th>\n",
       "      <td>576</td>\n",
       "    </tr>\n",
       "  </tbody>\n",
       "</table>\n",
       "</div>"
      ],
      "text/plain": [
       "   Total Players\n",
       "0            576"
      ]
     },
     "metadata": {},
     "execution_count": 4
    }
   ],
   "metadata": {}
  },
  {
   "cell_type": "markdown",
   "source": [
    "## Purchasing Analysis (Total)"
   ],
   "metadata": {}
  },
  {
   "cell_type": "markdown",
   "source": [
    "* Run basic calculations to obtain number of unique items, average price, etc.\n",
    "\n",
    "\n",
    "* Create a summary data frame to hold the results\n",
    "\n",
    "\n",
    "* Optional: give the displayed data cleaner formatting\n",
    "\n",
    "\n",
    "* Display the summary data frame\n"
   ],
   "metadata": {}
  },
  {
   "cell_type": "code",
   "execution_count": 5,
   "source": [
    "# Calculate for unique items\r\n",
    "unique_items = (purchase_data[\"Item ID\"]).nunique()\r\n",
    "\r\n",
    "# Calculations average price\r\n",
    "average_price = (purchase_data[\"Price\"]).mean()\r\n",
    "\r\n",
    "# Calculations purchases\r\n",
    "number_of_purchases = (purchase_data[\"Purchase ID\"]).count()\r\n",
    "\r\n",
    "# Calculations total revenue\r\n",
    "total_revenue = (purchase_data[\"Price\"]).sum()\r\n",
    "\r\n",
    "# Create data frame for the analysis\r\n",
    "total_purchase_analysis = pd.DataFrame({\"Number of Unique Items\": [unique_items],\r\n",
    "                                        \"Average Price\": [average_price],\r\n",
    "                                        \"Number of Purchases\": [number_of_purchases],\r\n",
    "                                        \"Total Revenue\": [total_revenue]})\r\n",
    "\r\n",
    "# Format data frame, adding \"$\", comma and two decimal places\r\n",
    "formatting({\"Average Price\": dollar_value,\r\n",
    "            \"Total Revenue\": dollar_value}, total_purchase_analysis)\r\n",
    "\r\n",
    "# Display data frame\r\n",
    "total_purchase_analysis"
   ],
   "outputs": [
    {
     "output_type": "execute_result",
     "data": {
      "text/html": [
       "<div>\n",
       "<style scoped>\n",
       "    .dataframe tbody tr th:only-of-type {\n",
       "        vertical-align: middle;\n",
       "    }\n",
       "\n",
       "    .dataframe tbody tr th {\n",
       "        vertical-align: top;\n",
       "    }\n",
       "\n",
       "    .dataframe thead th {\n",
       "        text-align: right;\n",
       "    }\n",
       "</style>\n",
       "<table border=\"1\" class=\"dataframe\">\n",
       "  <thead>\n",
       "    <tr style=\"text-align: right;\">\n",
       "      <th></th>\n",
       "      <th>Number of Unique Items</th>\n",
       "      <th>Average Price</th>\n",
       "      <th>Number of Purchases</th>\n",
       "      <th>Total Revenue</th>\n",
       "    </tr>\n",
       "  </thead>\n",
       "  <tbody>\n",
       "    <tr>\n",
       "      <th>0</th>\n",
       "      <td>179</td>\n",
       "      <td>$3.05</td>\n",
       "      <td>780</td>\n",
       "      <td>$2,379.77</td>\n",
       "    </tr>\n",
       "  </tbody>\n",
       "</table>\n",
       "</div>"
      ],
      "text/plain": [
       "   Number of Unique Items Average Price  Number of Purchases Total Revenue\n",
       "0                     179         $3.05                  780     $2,379.77"
      ]
     },
     "metadata": {},
     "execution_count": 5
    }
   ],
   "metadata": {
    "scrolled": true
   }
  },
  {
   "cell_type": "markdown",
   "source": [
    "## Gender Demographics"
   ],
   "metadata": {}
  },
  {
   "cell_type": "markdown",
   "source": [
    "* Percentage and Count of Male Players\n",
    "\n",
    "\n",
    "* Percentage and Count of Female Players\n",
    "\n",
    "\n",
    "* Percentage and Count of Other / Non-Disclosed\n",
    "\n",
    "\n"
   ],
   "metadata": {}
  },
  {
   "cell_type": "code",
   "execution_count": 6,
   "source": [
    "# Use Groupby on Gender to get genders\r\n",
    "genders = purchase_data.groupby(\"Gender\")\r\n",
    "\r\n",
    "# Use SN to count the total player of each gender\r\n",
    "genders_count = genders.nunique()[\"SN\"]\r\n",
    "\r\n",
    "# Total gender count divivde by total players to get percentage\r\n",
    "players_percentage = genders_count / players * 100\r\n",
    "\r\n",
    "# Create data frame for the analysis\r\n",
    "gender_demo = pd.DataFrame({\"Total Count\": genders_count,\r\n",
    "                            \"Percentage of Players\": players_percentage})\r\n",
    "\r\n",
    "# Format the data frame with no index\r\n",
    "gender_demo.index.name = None\r\n",
    "\r\n",
    "# Sort data frame by \"Total Count\" in descending order\r\n",
    "gender_demo = gender_demo.sort_values([\"Total Count\"], ascending = False)\r\n",
    "\r\n",
    "# Format data frame, adding \"%\" and two decimal places for the percentage\r\n",
    "gender_demo = gender_demo.style.format({\"Percentage of Players\": \"{:,.2f}%\"})\r\n",
    "\r\n",
    "# Display data frame\r\n",
    "gender_demo"
   ],
   "outputs": [
    {
     "output_type": "error",
     "ename": "ImportError",
     "evalue": "Missing optional dependency 'Jinja2'. DataFrame.style requires jinja2. Use pip or conda to install Jinja2.",
     "traceback": [
      "\u001b[1;31m---------------------------------------------------------------------------\u001b[0m",
      "\u001b[1;31mImportError\u001b[0m                               Traceback (most recent call last)",
      "\u001b[1;32m~\\AppData\\Local\\Temp/ipykernel_6948/3683617072.py\u001b[0m in \u001b[0;36m<module>\u001b[1;34m\u001b[0m\n\u001b[0;32m     19\u001b[0m \u001b[1;33m\u001b[0m\u001b[0m\n\u001b[0;32m     20\u001b[0m \u001b[1;31m# Format data frame, adding \"%\" and two decimal places for the percentage\u001b[0m\u001b[1;33m\u001b[0m\u001b[1;33m\u001b[0m\u001b[1;33m\u001b[0m\u001b[0m\n\u001b[1;32m---> 21\u001b[1;33m \u001b[0mgender_demo\u001b[0m \u001b[1;33m=\u001b[0m \u001b[0mgender_demo\u001b[0m\u001b[1;33m.\u001b[0m\u001b[0mstyle\u001b[0m\u001b[1;33m.\u001b[0m\u001b[0mformat\u001b[0m\u001b[1;33m(\u001b[0m\u001b[1;33m{\u001b[0m\u001b[1;34m\"Percentage of Players\"\u001b[0m\u001b[1;33m:\u001b[0m \u001b[1;34m\"{:,.2f}%\"\u001b[0m\u001b[1;33m}\u001b[0m\u001b[1;33m)\u001b[0m\u001b[1;33m\u001b[0m\u001b[1;33m\u001b[0m\u001b[0m\n\u001b[0m\u001b[0;32m     22\u001b[0m \u001b[1;33m\u001b[0m\u001b[0m\n\u001b[0;32m     23\u001b[0m \u001b[1;31m# Display data frame\u001b[0m\u001b[1;33m\u001b[0m\u001b[1;33m\u001b[0m\u001b[1;33m\u001b[0m\u001b[0m\n",
      "\u001b[1;32m~\\AppData\\Local\\Programs\\Python\\Python39\\lib\\site-packages\\pandas\\core\\frame.py\u001b[0m in \u001b[0;36mstyle\u001b[1;34m(self)\u001b[0m\n\u001b[0;32m   1149\u001b[0m             \u001b[0mdata\u001b[0m \u001b[1;32mwith\u001b[0m \u001b[0mHTML\u001b[0m \u001b[1;32mand\u001b[0m \u001b[0mCSS\u001b[0m\u001b[1;33m.\u001b[0m\u001b[1;33m\u001b[0m\u001b[1;33m\u001b[0m\u001b[0m\n\u001b[0;32m   1150\u001b[0m         \"\"\"\n\u001b[1;32m-> 1151\u001b[1;33m         \u001b[1;32mfrom\u001b[0m \u001b[0mpandas\u001b[0m\u001b[1;33m.\u001b[0m\u001b[0mio\u001b[0m\u001b[1;33m.\u001b[0m\u001b[0mformats\u001b[0m\u001b[1;33m.\u001b[0m\u001b[0mstyle\u001b[0m \u001b[1;32mimport\u001b[0m \u001b[0mStyler\u001b[0m\u001b[1;33m\u001b[0m\u001b[1;33m\u001b[0m\u001b[0m\n\u001b[0m\u001b[0;32m   1152\u001b[0m \u001b[1;33m\u001b[0m\u001b[0m\n\u001b[0;32m   1153\u001b[0m         \u001b[1;32mreturn\u001b[0m \u001b[0mStyler\u001b[0m\u001b[1;33m(\u001b[0m\u001b[0mself\u001b[0m\u001b[1;33m)\u001b[0m\u001b[1;33m\u001b[0m\u001b[1;33m\u001b[0m\u001b[0m\n",
      "\u001b[1;32m~\\AppData\\Local\\Programs\\Python\\Python39\\lib\\site-packages\\pandas\\io\\formats\\style.py\u001b[0m in \u001b[0;36m<module>\u001b[1;34m\u001b[0m\n\u001b[0;32m     47\u001b[0m \u001b[1;32mfrom\u001b[0m \u001b[0mpandas\u001b[0m\u001b[1;33m.\u001b[0m\u001b[0mio\u001b[0m\u001b[1;33m.\u001b[0m\u001b[0mformats\u001b[0m\u001b[1;33m.\u001b[0m\u001b[0mformat\u001b[0m \u001b[1;32mimport\u001b[0m \u001b[0msave_to_buffer\u001b[0m\u001b[1;33m\u001b[0m\u001b[1;33m\u001b[0m\u001b[0m\n\u001b[0;32m     48\u001b[0m \u001b[1;33m\u001b[0m\u001b[0m\n\u001b[1;32m---> 49\u001b[1;33m \u001b[0mjinja2\u001b[0m \u001b[1;33m=\u001b[0m \u001b[0mimport_optional_dependency\u001b[0m\u001b[1;33m(\u001b[0m\u001b[1;34m\"jinja2\"\u001b[0m\u001b[1;33m,\u001b[0m \u001b[0mextra\u001b[0m\u001b[1;33m=\u001b[0m\u001b[1;34m\"DataFrame.style requires jinja2.\"\u001b[0m\u001b[1;33m)\u001b[0m\u001b[1;33m\u001b[0m\u001b[1;33m\u001b[0m\u001b[0m\n\u001b[0m\u001b[0;32m     50\u001b[0m \u001b[1;33m\u001b[0m\u001b[0m\n\u001b[0;32m     51\u001b[0m from pandas.io.formats.style_render import (\n",
      "\u001b[1;32m~\\AppData\\Local\\Programs\\Python\\Python39\\lib\\site-packages\\pandas\\compat\\_optional.py\u001b[0m in \u001b[0;36mimport_optional_dependency\u001b[1;34m(name, extra, errors, min_version)\u001b[0m\n\u001b[0;32m    116\u001b[0m     \u001b[1;32mexcept\u001b[0m \u001b[0mImportError\u001b[0m\u001b[1;33m:\u001b[0m\u001b[1;33m\u001b[0m\u001b[1;33m\u001b[0m\u001b[0m\n\u001b[0;32m    117\u001b[0m         \u001b[1;32mif\u001b[0m \u001b[0merrors\u001b[0m \u001b[1;33m==\u001b[0m \u001b[1;34m\"raise\"\u001b[0m\u001b[1;33m:\u001b[0m\u001b[1;33m\u001b[0m\u001b[1;33m\u001b[0m\u001b[0m\n\u001b[1;32m--> 118\u001b[1;33m             \u001b[1;32mraise\u001b[0m \u001b[0mImportError\u001b[0m\u001b[1;33m(\u001b[0m\u001b[0mmsg\u001b[0m\u001b[1;33m)\u001b[0m \u001b[1;32mfrom\u001b[0m \u001b[1;32mNone\u001b[0m\u001b[1;33m\u001b[0m\u001b[1;33m\u001b[0m\u001b[0m\n\u001b[0m\u001b[0;32m    119\u001b[0m         \u001b[1;32melse\u001b[0m\u001b[1;33m:\u001b[0m\u001b[1;33m\u001b[0m\u001b[1;33m\u001b[0m\u001b[0m\n\u001b[0;32m    120\u001b[0m             \u001b[1;32mreturn\u001b[0m \u001b[1;32mNone\u001b[0m\u001b[1;33m\u001b[0m\u001b[1;33m\u001b[0m\u001b[0m\n",
      "\u001b[1;31mImportError\u001b[0m: Missing optional dependency 'Jinja2'. DataFrame.style requires jinja2. Use pip or conda to install Jinja2."
     ]
    }
   ],
   "metadata": {}
  },
  {
   "cell_type": "markdown",
   "source": [
    "\n",
    "## Purchasing Analysis (Gender)"
   ],
   "metadata": {}
  },
  {
   "cell_type": "markdown",
   "source": [
    "* Run basic calculations to obtain purchase count, avg. purchase price, avg. purchase total per person etc. by gender\n",
    "\n",
    "\n",
    "\n",
    "\n",
    "* Create a summary data frame to hold the results\n",
    "\n",
    "\n",
    "* Optional: give the displayed data cleaner formatting\n",
    "\n",
    "\n",
    "* Display the summary data frame"
   ],
   "metadata": {}
  },
  {
   "cell_type": "code",
   "execution_count": null,
   "source": [
    "# Count the total purchases by gender\n",
    "number_of_purchases = genders[\"Purchase ID\"].count()\n",
    "\n",
    "# Calculate the average purchase prices by gender\n",
    "avg_purchase_price = genders[\"Price\"].mean()\n",
    "\n",
    "# Calculate the average purchase total by gender\n",
    "avg_purchase_total = genders[\"Price\"].sum()\n",
    "\n",
    "# Average purchase total by gender, divivded by, purchase count by unique shoppers\n",
    "avg_purchase_per_person = avg_purchase_total / genders_count\n",
    "\n",
    "# Create data frame for the analysis\n",
    "gender_purchasing_analysis = pd.DataFrame({\"Purchase Count\": number_of_purchases,\n",
    "                                           \"Average Purchase Price\": avg_purchase_price,\n",
    "                                           \"Average Purchase Value\":avg_purchase_total,\n",
    "                                           \"Avg Purchase Total per Person\": avg_purchase_per_person})\n",
    "\n",
    "# Set index as \"Gender\"\n",
    "gender_purchasing_analysis.index.name = \"Gender\"\n",
    "\n",
    "# Sort data frame by \"Purchase Count\" in descending order\n",
    "gender_purchasing_analysis = gender_purchasing_analysis.sort_values([\"Purchase Count\"], ascending = False)\n",
    "\n",
    "# Format data frame, adding \"$\", comma and set decimal places\n",
    "formatting({\"Average Purchase Value\": dollar_value,\n",
    "            \"Average Purchase Price\": dollar_value,\n",
    "            \"Avg Purchase Total per Person\": dollar_value}, gender_purchasing_analysis)\n",
    "\n",
    "# Display data frame\n",
    "gender_purchasing_analysis"
   ],
   "outputs": [],
   "metadata": {
    "scrolled": true
   }
  },
  {
   "cell_type": "markdown",
   "source": [
    "## Age Demographics"
   ],
   "metadata": {}
  },
  {
   "cell_type": "markdown",
   "source": [
    "* Establish bins for ages\n",
    "\n",
    "\n",
    "* Categorize the existing players using the age bins. Hint: use pd.cut()\n",
    "\n",
    "\n",
    "* Calculate the numbers and percentages by age group\n",
    "\n",
    "\n",
    "* Create a summary data frame to hold the results\n",
    "\n",
    "\n",
    "* Optional: round the percentage column to two decimal points\n",
    "\n",
    "\n",
    "* Display Age Demographics Table\n"
   ],
   "metadata": {}
  },
  {
   "cell_type": "code",
   "execution_count": null,
   "source": [
    "# Creating bins for ages\n",
    "age_bins = [0, 9.99, 14.99, 19.99, 24.99, 29.99, 34.99, 39.99, 99999]\n",
    "group_names = [\"<10\", \"10-14\", \"15-19\", \"20-24\", \"25-29\", \"30-34\", \"35-39\", \"40+\"]\n",
    "\n",
    "# Divide and sort age into bins\n",
    "purchase_data[\"Age Group\"] = pd.cut(purchase_data[\"Age\"], age_bins, labels = group_names)\n",
    "\n",
    "# Create new data frame with \"Age Group\" and group it\n",
    "grouped_age = purchase_data.groupby(\"Age Group\")\n",
    "\n",
    "# Count total players by age category\n",
    "total_count_by_age = grouped_age[\"SN\"].nunique()\n",
    "\n",
    "# Calculate percentages by age category \n",
    "percentage_by_age = (total_count_by_age / players) * 100\n",
    "\n",
    "# Create data frame for the analysis\n",
    "age_demo = pd.DataFrame({\"Total Count\": total_count_by_age,\n",
    "                         \"Percentage of Players\": percentage_by_age})\n",
    "\n",
    "# Format the data frame with no index\n",
    "age_demo.index.name = None\n",
    "\n",
    "# Format data frame, adding \"%\" and two decimal places\n",
    "age_demo = age_demo.style.format({\"Percentage of Players\": \"{:,.2f}%\"})\n",
    "\n",
    "#Display data frame\n",
    "age_demo"
   ],
   "outputs": [],
   "metadata": {}
  },
  {
   "cell_type": "markdown",
   "source": [
    "## Purchasing Analysis (Age)"
   ],
   "metadata": {}
  },
  {
   "cell_type": "markdown",
   "source": [
    "* Bin the purchase_data data frame by age\n",
    "\n",
    "\n",
    "* Run basic calculations to obtain purchase count, avg. purchase price, avg. purchase total per person etc. in the table below\n",
    "\n",
    "\n",
    "* Create a summary data frame to hold the results\n",
    "\n",
    "\n",
    "* Optional: give the displayed data cleaner formatting\n",
    "\n",
    "\n",
    "* Display the summary data frame"
   ],
   "metadata": {}
  },
  {
   "cell_type": "code",
   "execution_count": null,
   "source": [
    "# Count purchases by age group\n",
    "purchase_count_by_age = grouped_age[\"Purchase ID\"].count()\n",
    "\n",
    "# Calculate average purchase price by age group \n",
    "avg_purchase_price_by_age = grouped_age[\"Price\"].mean()\n",
    "\n",
    "# Calculate total purchase value by age group \n",
    "total_purchase = grouped_age[\"Price\"].sum()\n",
    "\n",
    "# Calculate average purchase per person in the age group \n",
    "avg_purchase_per_person_by_age = total_purchase / total_count_by_age\n",
    "\n",
    "# Create data frame for the analysis\n",
    "age_purchase_analysis = pd.DataFrame({\"Purchase Count\": purchase_count_by_age,\n",
    "                                      \"Average Purchase Price\": avg_purchase_price_by_age,\n",
    "                                      \"Total Purchase Value\": total_purchase,\n",
    "                                      \"Average Purchase Total per Person\": avg_purchase_per_person_by_age})\n",
    "\n",
    "# Format the data frame with no index\n",
    "age_purchase_analysis.index.name = None\n",
    "\n",
    "# Format data frame, adding \"$\", comma and set decimal places\n",
    "formatting({\"Average Purchase Price\": dollar_value,\n",
    "            \"Total Purchase Value\": dollar_value,\n",
    "            \"Average Purchase Total per Person\": dollar_value}, age_purchase_analysis)\n",
    "\n",
    "# Diaplay data frame\n",
    "age_purchase_analysis"
   ],
   "outputs": [],
   "metadata": {}
  },
  {
   "cell_type": "markdown",
   "source": [
    "## Top Spenders"
   ],
   "metadata": {}
  },
  {
   "cell_type": "markdown",
   "source": [
    "* Run basic calculations to obtain the results in the table below\n",
    "\n",
    "\n",
    "* Create a summary data frame to hold the results\n",
    "\n",
    "\n",
    "* Sort the total purchase value column in descending order\n",
    "\n",
    "\n",
    "* Optional: give the displayed data cleaner formatting\n",
    "\n",
    "\n",
    "* Display a preview of the summary data frame\n",
    "\n"
   ],
   "metadata": {}
  },
  {
   "cell_type": "code",
   "execution_count": null,
   "source": [
    "# Use original data set to group data by \"SN\"\n",
    "spenders = purchase_data.groupby(\"SN\")\n",
    "\n",
    "# Count total purchases\n",
    "count_by_spender = spenders[\"Purchase ID\"].count()\n",
    "\n",
    "# Calculate the average purchase by \"SN\" \n",
    "avg_purchase_price_by_spender = spenders[\"Price\"].mean()\n",
    "\n",
    "# Calculate purchase total \n",
    "purchase_total_by_spender = spenders[\"Price\"].sum()\n",
    "\n",
    "# Create data frame for the analysis\n",
    "top_spenders = pd.DataFrame({\"Purchase Count\": count_by_spender,\n",
    "                             \"Average Purchase Price\": avg_purchase_price_by_spender,\n",
    "                             \"Total Purchase Value\": purchase_total_by_spender})\n",
    "\n",
    "# Sort data frame by \"Total Purchase Value\" in descending order to find top 5 spender names\n",
    "top_spenders = top_spenders.sort_values([\"Total Purchase Value\"], ascending = False)\n",
    "\n",
    "# Format data frame, adding \"$\", comma and set decimal places\n",
    "formatting({\"Average Purchase Price\": dollar_value,\n",
    "            \"Total Purchase Value\": dollar_value}, top_spenders)\n",
    "\n",
    "# Display data frame\n",
    "top_spenders.head()"
   ],
   "outputs": [],
   "metadata": {}
  },
  {
   "cell_type": "markdown",
   "source": [
    "## Most Popular Items"
   ],
   "metadata": {}
  },
  {
   "cell_type": "markdown",
   "source": [
    "* Retrieve the Item ID, Item Name, and Item Price columns\n",
    "\n",
    "\n",
    "* Group by Item ID and Item Name. Perform calculations to obtain purchase count, item price, and total purchase value\n",
    "\n",
    "\n",
    "* Create a summary data frame to hold the results\n",
    "\n",
    "\n",
    "* Sort the purchase count column in descending order\n",
    "\n",
    "\n",
    "* Optional: give the displayed data cleaner formatting\n",
    "\n",
    "\n",
    "* Display a preview of the summary data frame\n",
    "\n"
   ],
   "metadata": {}
  },
  {
   "cell_type": "code",
   "execution_count": null,
   "source": [
    "# Create new data set with items related data from original data set \n",
    "items = purchase_data[[\"Item ID\", \"Item Name\", \"Price\"]]\n",
    "\n",
    "# Group the item data by item id and item name\n",
    "item_stats = items.groupby([\"Item ID\",\"Item Name\"])\n",
    "\n",
    "# Count how many times each item has been purchased\n",
    "purchase_count_item = item_stats[\"Price\"].count()\n",
    "\n",
    "# Calcualte the total purchase value\n",
    "purchase_value = (item_stats[\"Price\"].sum()) \n",
    "\n",
    "# Find individual item price\n",
    "item_price = purchase_value / purchase_count_item\n",
    "\n",
    "# Create data frame\n",
    "most_popular_items = pd.DataFrame({\"Purchase Count\": purchase_count_item, \n",
    "                                   \"Item Price\": item_price,\n",
    "                                   \"Total Purchase Value\": purchase_value})\n",
    "\n",
    "# Sort data frame by \"Purchase Count\" in descending order to find top 5 spender names\n",
    "formatted_most_popular_items = most_popular_items.sort_values([\"Purchase Count\"], ascending = False)\n",
    "\n",
    "# Format data frame, adding \"$\", comma and set decimal places\n",
    "formatting({\"Item Price\": dollar_value,\n",
    "            \"Total Purchase Value\": dollar_value}, formatted_most_popular_items)\n",
    "\n",
    "# Display data frame\n",
    "formatted_most_popular_items.head()"
   ],
   "outputs": [],
   "metadata": {}
  },
  {
   "cell_type": "markdown",
   "source": [
    "## Most Profitable Items"
   ],
   "metadata": {}
  },
  {
   "cell_type": "markdown",
   "source": [
    "* Sort the above table by total purchase value in descending order\n",
    "\n",
    "\n",
    "* Optional: give the displayed data cleaner formatting\n",
    "\n",
    "\n",
    "* Display a preview of the data frame\n",
    "\n"
   ],
   "metadata": {}
  },
  {
   "cell_type": "code",
   "execution_count": null,
   "source": [
    "# Change the sorting from the previous data frame to find highest total purchase value\n",
    "most_profitable_items = most_popular_items.sort_values([\"Total Purchase Value\"], ascending = False)\n",
    "\n",
    "# Format data frame, adding \"$\", comma and set decimal places\n",
    "formatting({\"Item Price\": dollar_value,\n",
    "            \"Total Purchase Value\": dollar_value}, most_profitable_items)\n",
    "\n",
    "# Display data frame\n",
    "most_profitable_items.head()"
   ],
   "outputs": [],
   "metadata": {
    "scrolled": true
   }
  }
 ],
 "metadata": {
  "anaconda-cloud": {},
  "kernel_info": {
   "name": "python3"
  },
  "kernelspec": {
   "name": "python3",
   "display_name": "Python 3.9.6 64-bit"
  },
  "language_info": {
   "codemirror_mode": {
    "name": "ipython",
    "version": 3
   },
   "file_extension": ".py",
   "mimetype": "text/x-python",
   "name": "python",
   "nbconvert_exporter": "python",
   "pygments_lexer": "ipython3",
   "version": "3.9.6"
  },
  "latex_envs": {
   "LaTeX_envs_menu_present": true,
   "autoclose": false,
   "autocomplete": true,
   "bibliofile": "biblio.bib",
   "cite_by": "apalike",
   "current_citInitial": 1,
   "eqLabelWithNumbers": true,
   "eqNumInitial": 1,
   "hotkeys": {
    "equation": "Ctrl-E",
    "itemize": "Ctrl-I"
   },
   "labels_anchors": false,
   "latex_user_defs": false,
   "report_style_numbering": false,
   "user_envs_cfg": false
  },
  "nteract": {
   "version": "0.2.0"
  },
  "interpreter": {
   "hash": "4df9673a351f86e043ca4186c37190dfe3ff42df118ec63c387711fd215ecef5"
  }
 },
 "nbformat": 4,
 "nbformat_minor": 2
}